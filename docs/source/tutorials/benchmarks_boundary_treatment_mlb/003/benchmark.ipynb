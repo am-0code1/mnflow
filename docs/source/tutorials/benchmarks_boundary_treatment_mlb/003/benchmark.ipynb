{
 "cells": [
  {
   "cell_type": "markdown",
   "metadata": {},
   "source": [
    "# Boundary design ``mlb`` with multiple fluidic lanes adjacent to sidewalls"
   ]
  },
  {
   "cell_type": "code",
   "execution_count": null,
   "metadata": {},
   "outputs": [],
   "source": [
    "import matplotlib.pyplot as plt\n",
    "import numpy as np\n",
    "\n",
    "from mnflow.mfda.cad.dld.theme.block import DLD"
   ]
  },
  {
   "cell_type": "code",
   "execution_count": null,
   "metadata": {},
   "outputs": [],
   "source": [
    "dld = DLD(\n",
    "    d_c=10.0,\n",
    "    Np=40,\n",
    "    # boundary\n",
    "    boundary_treatment='mlb',\n",
    "    dep_top_gap_deviation_nondim=[-0.5, -0.7, -0.9],\n",
    "    acc_top_gap_deviation_nondim=[0.4, 0.8],\n",
    "    #\n",
    "    num_unit=2,\n",
    "    #\n",
    "    rotation_angle_deg_before_array=90,\n",
    "    # image\n",
    "    opt_save_image=True,\n",
    "    img_dpu=2,\n",
    ")"
   ]
  },
  {
   "cell_type": "markdown",
   "metadata": {},
   "source": [
    "## Output layout:\n",
    "![Layout](layout_overlay.png)"
   ]
  },
  {
   "cell_type": "markdown",
   "metadata": {},
   "source": [
    "And, values of important parameters and variables:"
   ]
  },
  {
   "cell_type": "code",
   "execution_count": null,
   "metadata": {},
   "outputs": [],
   "source": [
    "Np=dld.Np\n",
    "gap_a=dld.gap_a\n",
    "gap_w=dld.gap_w\n",
    "phi=dld.phi\n",
    "boundary_gaps=dld.get_boundary_gaps()"
   ]
  },
  {
   "cell_type": "code",
   "execution_count": null,
   "metadata": {},
   "outputs": [],
   "source": [
    "print(\"Np: \", Np)\n",
    "print(\"gap_w: \", gap_w)\n",
    "print(\"phi: \", phi)"
   ]
  }
 ],
 "metadata": {
  "kernelspec": {
   "display_name": "mnflow",
   "language": "python",
   "name": "python3"
  },
  "language_info": {
   "codemirror_mode": {
    "name": "ipython",
    "version": 3
   },
   "file_extension": ".py",
   "mimetype": "text/x-python",
   "name": "python",
   "nbconvert_exporter": "python",
   "pygments_lexer": "ipython3",
   "version": "3.12.8"
  }
 },
 "nbformat": 4,
 "nbformat_minor": 2
}
