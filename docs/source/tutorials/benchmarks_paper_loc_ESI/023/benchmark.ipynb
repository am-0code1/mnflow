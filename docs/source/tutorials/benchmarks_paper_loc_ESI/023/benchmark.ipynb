{
 "cells": [
  {
   "cell_type": "markdown",
   "metadata": {},
   "source": [
    "# Multi-inlet"
   ]
  },
  {
   "cell_type": "code",
   "execution_count": null,
   "metadata": {},
   "outputs": [],
   "source": [
    "from mnflow.mfda.cad.dld.theme.block import DLD"
   ]
  },
  {
   "cell_type": "markdown",
   "metadata": {},
   "source": [
    "In order to include a multi-inlet component in a ``block.DLD``, you can pass the desired configurations via a dictionary named ``config_multi_inlet`` as shown in the following example."
   ]
  },
  {
   "cell_type": "code",
   "execution_count": null,
   "metadata": {},
   "outputs": [],
   "source": [
    "dld=DLD(\n",
    "    d_c=5,\n",
    "    config_multi_inlet={\n",
    "        'bar_dims':[5, 200],\n",
    "        'num_branch':3,\n",
    "        },\n",
    "    Np=10,\n",
    "    Nw=20,\n",
    "    num_unit=3,\n",
    "    # constraints OFF\n",
    "    turn_off_constraints=True,\n",
    "    # post process transformations\n",
    "    rot_last=90, # solely for better arrangement of layout in docs\n",
    "    # image\n",
    "    opt_save_image=True,\n",
    "    img_dpu=1,\n",
    "    )"
   ]
  },
  {
   "cell_type": "markdown",
   "metadata": {},
   "source": [
    "## Output layout:\n",
    "![Layout](layout_overlay.png)"
   ]
  }
 ],
 "metadata": {
  "kernelspec": {
   "display_name": ".venv",
   "language": "python",
   "name": "python3"
  },
  "language_info": {
   "codemirror_mode": {
    "name": "ipython",
    "version": 3
   },
   "file_extension": ".py",
   "mimetype": "text/x-python",
   "name": "python",
   "nbconvert_exporter": "python",
   "pygments_lexer": "ipython3",
   "version": "3.12.7"
  }
 },
 "nbformat": 4,
 "nbformat_minor": 2
}
