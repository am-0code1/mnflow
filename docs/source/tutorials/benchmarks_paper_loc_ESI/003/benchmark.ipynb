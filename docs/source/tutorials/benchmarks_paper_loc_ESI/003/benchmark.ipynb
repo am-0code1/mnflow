{
 "cells": [
  {
   "cell_type": "markdown",
   "metadata": {},
   "source": [
    "# Adding preload and filter upstream and collection channels downstream of device"
   ]
  },
  {
   "cell_type": "code",
   "execution_count": null,
   "metadata": {},
   "outputs": [],
   "source": [
    "from mnflow.mfda.cad.dld.theme.block import DLD"
   ]
  },
  {
   "cell_type": "code",
   "execution_count": null,
   "metadata": {},
   "outputs": [],
   "source": [
    "dld = DLD(\n",
    "    Np=8,\n",
    "    d_c=1.,\n",
    "    Nw=9,\n",
    "    opt_filter=True,\n",
    "    opt_preload=True,\n",
    "    opt_collection=True,\n",
    "    rotation_angle_deg_before_array=90,\n",
    "    # constraints OFF\n",
    "    turn_off_constraints=True,\n",
    "    # image\n",
    "    opt_save_image=True,\n",
    "    img_dpu=10,\n",
    ")"
   ]
  },
  {
   "cell_type": "markdown",
   "metadata": {},
   "source": [
    "## Output layout:\n",
    "![Layout](layout_overlay.png)"
   ]
  }
 ],
 "metadata": {
  "kernelspec": {
   "display_name": ".venv",
   "language": "python",
   "name": "python3"
  },
  "language_info": {
   "codemirror_mode": {
    "name": "ipython",
    "version": 3
   },
   "file_extension": ".py",
   "mimetype": "text/x-python",
   "name": "python",
   "nbconvert_exporter": "python",
   "pygments_lexer": "ipython3",
   "version": "3.12.7"
  }
 },
 "nbformat": 4,
 "nbformat_minor": 2
}
