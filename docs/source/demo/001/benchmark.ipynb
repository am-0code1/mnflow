{
 "cells": [
  {
   "cell_type": "markdown",
   "metadata": {},
   "source": [
    "# Parallelized DLD units with through-wafer vias"
   ]
  },
  {
   "cell_type": "code",
   "execution_count": 1,
   "metadata": {},
   "outputs": [],
   "source": [
    "from mnflow.mfda.cad.dld.theme.block import DLD"
   ]
  },
  {
   "cell_type": "code",
   "execution_count": 2,
   "metadata": {},
   "outputs": [
    {
     "name": "stdout",
     "output_type": "stream",
     "text": [
      "----------------------------------------------------------------------\n",
      "NOTE:\n",
      "`opt_mirror` is True. The collection design is not comprehensively tested with\n",
      "this feature yet. Check the design of collection channels and their hydraulic\n",
      "resistance balance.\n",
      "In particular, there may be a bump collection channel crossing the mirror axis.\n",
      "The resistance of this channel is currently considered as that of a pair of\n",
      "parallel channels with a width equal to half of that of the real central\n",
      "channel. If the width (compared to height) is sufficiently large, the error\n",
      "should be negligible.\n",
      "Otherwise, there can be large errors associated with the hydraulic resistance of\n",
      "this central channel.\n",
      "----------------------------------------------------------------------\n",
      "                \n",
      "collection specs\n",
      "------------------------------------------------------------\n",
      "concentration enhancement factor: 5.000\n",
      "------------------------------------------------------------\n",
      "Note:\n",
      "A higher level of automation is still lacking. Therefore, read the following\n",
      "carefully.\n",
      "Compare important specified parameters (input) related to the geometry of\n",
      "collection component with those in the produced CAD file to make sure they\n",
      "match.\n",
      "Check for the number of zz and bump channels, and their gaps.\n",
      "In particular, the last zz/bump channel close to the sidewall may be narrower\n",
      "than the specified value due to lack of space, in which case its hydraulic\n",
      "resistance may be different from that estimated by using the specified gap.\n",
      "Note that `zz_bar_offset_w` and `bmp_bar_offset_w` can be used to slide the\n",
      "bars left or right as needed to mitigate the issue with lack of space.\n",
      "\n",
      "zz_collection_width: 90.0\n",
      "bmp_collection_width: 22.5\n",
      "zz_bar_gap: 5.25\n",
      "bmp_bar_gap: 6.0\n",
      "zz_num_ch_side_us: 4.0\n",
      "bmp_num_ch_central: 2.0\n",
      "--------------------------------------------------\n",
      "Important metrics reflecting the correctness of the hydraulic balance.\n",
      "In particular, `R_zz_over_R_bmp/R_zz_over_R_bmp_target` needs to be close to\n",
      "1.0. In order to add a slight bias towards bmp collection to prevent large\n",
      "particles from escaping towards the zz collection at the end of channel, the\n",
      "value of `R_zz_over_R_bmp/R_zz_over_R_bmp_target` could be configured to be\n",
      "slightly larger than 1.0. For example, between 1.0 and 1.05.\n",
      "\n",
      "R_zz/R_bmp: 0.3154558500085163\n",
      "R_zz/R_bmp target: 0.25\n",
      "R_zz_over_R_bmp/R_zz_over_R_bmp_target: 1.2618234000340651\n",
      "--------------------------------------------------\n",
      "R_bmp: 2361900879919522.0\n",
      "R_zz: 745075449710875.4\n",
      "R_zz_ds: 29863257302270.586\n",
      "R_zz_us: 715212192408604.8\n",
      "R_zz_ds/R_zz_us: 0.04175440186736853\n",
      "--------------------------------------------------\n",
      "Comparing resistances with that of i/o bus to check if the i/o bus has a\n",
      "negligible resistance.\n",
      "\n",
      "R_bus/R_zz: 0.026931430011057442\n",
      "R_bus/R_bmp: 0.008495677146082991\n",
      "--------------------------------------------------\n",
      "\n",
      "----------------------------------------\n",
      "core.DLD___Np:10_Nw:15_gap_w:3.000_pitch_w:7.500_gap_a:3.000_pitch_a:15.000_height:12.000_boundary_treatment:pow_3\n",
      "block.DLD___num_unit:3_opt_mirror:True_array_counts:[5, 1]_opt_mirror_before_array:[True, True]\n",
      "----------------------------------------\n",
      "(Resistance eval.) Warning:\n",
      "D/W=1.0999999999999999 while the valid range is [0.3, 0.9]\n",
      "{'Np': 10,\n",
      " 'Nw': 15,\n",
      " 'area': 8808745.379999999,\n",
      " 'bb': [(-20.142, -737.5), (2482.698, 2782.0)],\n",
      " 'count of 1D arrays of core.DLD': 40,\n",
      " 'd_c': 1.9397407445612724,\n",
      " 'lx': 2502.8399999999997,\n",
      " 'ly': 3519.5,\n",
      " 'performance': {'Flow rate @ 1 bar/area (micro-liter/min/mm-sq)': nan,\n",
      "                 'die area (mm-sq)': 8.80874538,\n",
      "                 'gap over crit. dia.': 1.5465984350803206,\n",
      "                 'volumetric flow rate at 1 bar (micro-liter/min)': nan},\n",
      " 'resistance (Pa.sec/m^3)': nan,\n",
      " 'volumetric flow rate at 1 bar (m^3/sec)': nan,\n",
      " 'volumetric flow rate at 1 bar (milli-liter/hr)': nan}\n"
     ]
    },
    {
     "name": "stderr",
     "output_type": "stream",
     "text": [
      "C:\\Users\\a\\Documents\\coding\\am_pkgs\\version_controlled\\mnflow\\mnflow\\mfda\\cad\\utils\\common.py:136: RuntimeWarning: invalid value encountered in scalar power\n",
      "  R_nondim = 1.0 + a * (b + np.tan(np.pi / 2.0 * D_over_W)) ** c * T_over_W**d\n"
     ]
    }
   ],
   "source": [
    "dld = DLD(\n",
    "    # core\n",
    "    Np=10,\n",
    "    Nw=15,\n",
    "    gap_w=3.,\n",
    "    pitch_w=7.5,\n",
    "    gap_a=3.0,\n",
    "    pitch_a=15.,\t\t\t\n",
    "    core_shape='beam_c',\n",
    "    beam_thickness=1.2,\n",
    "    num_unit=3,\n",
    "    \n",
    "    # filter\n",
    "    opt_filter=True,\n",
    "    filter_preload_spacing=20,\n",
    "    \n",
    "    # preload\n",
    "    opt_preload=True,\n",
    "    \n",
    "    # collection\n",
    "    opt_collection=True,\n",
    "    opt_collection_with_via=True,\n",
    "    via_dia=100,\n",
    "    \n",
    "    # process\n",
    "    opt_mirror=True, \n",
    "    array_counts=[5, 1],\n",
    "    array_spacing=[0, 100],\n",
    "    opt_mirror_before_array=[True, True],\n",
    "    spacing_between_mirrors_before_array=[0, 50],\n",
    "    # rotation_angle_deg_before_array=90,\n",
    "    # constraints OFF\n",
    "    turn_off_constraints=True,\n",
    "    # image\n",
    "    opt_save_image=True,\n",
    "    img_dpu=1,\n",
    ")"
   ]
  },
  {
   "cell_type": "markdown",
   "metadata": {},
   "source": [
    "## Output layout:\n",
    "![Layout](layout_overlay.png)"
   ]
  }
 ],
 "metadata": {
  "kernelspec": {
   "display_name": ".venv",
   "language": "python",
   "name": "python3"
  },
  "language_info": {
   "codemirror_mode": {
    "name": "ipython",
    "version": 3
   },
   "file_extension": ".py",
   "mimetype": "text/x-python",
   "name": "python",
   "nbconvert_exporter": "python",
   "pygments_lexer": "ipython3",
   "version": "3.12.7"
  }
 },
 "nbformat": 4,
 "nbformat_minor": 2
}
