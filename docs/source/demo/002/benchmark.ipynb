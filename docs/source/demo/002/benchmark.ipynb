{
 "cells": [
  {
   "cell_type": "markdown",
   "metadata": {},
   "source": [
    "# User-defined pillars profile"
   ]
  },
  {
   "cell_type": "code",
   "execution_count": 1,
   "metadata": {},
   "outputs": [],
   "source": [
    "import numpy as np\n",
    "from mnflow.mfda.cad.dld.theme.block import DLD"
   ]
  },
  {
   "cell_type": "markdown",
   "metadata": {},
   "source": [
    "The profile shape of pillars can be defined from the coordinates of vertices with bounding box centered on (0, 0):"
   ]
  },
  {
   "cell_type": "code",
   "execution_count": 2,
   "metadata": {},
   "outputs": [],
   "source": [
    "shape = np.array([\n",
    "    (0.34, 0.),\n",
    "    (0.5, 0.25),\n",
    "    (0.17, 0.25),\n",
    "    (0., 0.5),\n",
    "    (-0.17, 0.25),\n",
    "    (-0.5, 0.25),\n",
    "    (-0.34, 0.),\n",
    "    (-0.5, -0.25),\n",
    "    (-0.17, -0.25),\n",
    "    (0., -0.5),\n",
    "    (0.17, -0.25),\n",
    "    (0.5, -0.25),\n",
    "    ])"
   ]
  },
  {
   "cell_type": "code",
   "execution_count": 3,
   "metadata": {},
   "outputs": [
    {
     "name": "stdout",
     "output_type": "stream",
     "text": [
      "----------------------------------------\n",
      "core.DLD___Np:10_Nw:8_gap_w:2.157_pitch_w:4.314_gap_a:2.157_pitch_a:4.314_height:8.628_boundary_treatment:pow_3\n",
      "block.DLD___num_unit:4_opt_mirror:False_array_counts:[1, 1]_opt_mirror_before_array:[False, False]\n",
      "----------------------------------------\n",
      "{'Np': 10,\n",
      " 'Nw': 8,\n",
      " 'area': 7915.521592000001,\n",
      " 'bb': [(-11.355, -2.157), (34.514, 170.411)],\n",
      " 'count of 1D arrays of core.DLD': 1,\n",
      " 'd_c': 1.0,\n",
      " 'lx': 45.869,\n",
      " 'ly': 172.568,\n",
      " 'performance': {'Flow rate @ 1 bar/area (micro-liter/min/mm-sq)': 362.47252061776896,\n",
      "                 'die area (mm-sq)': 0.007915521592000001,\n",
      "                 'gap over crit. dia.': 2.157108371715726,\n",
      "                 'volumetric flow rate at 1 bar (micro-liter/min)': 2.8691590634566158},\n",
      " 'resistance (Pa.sec/m^3)': 2091205076922960.0,\n",
      " 'volumetric flow rate at 1 bar (m^3/sec)': 4.781931772427693e-11,\n",
      " 'volumetric flow rate at 1 bar (milli-liter/hr)': 0.17214954380739694}\n"
     ]
    }
   ],
   "source": [
    "dld = DLD(\n",
    "    d_c=1.,\n",
    "    Np=10,\n",
    "    Nw=8,\n",
    "    core_shape=shape,\n",
    "    num_unit=4,\n",
    "    # rotation_angle_deg_before_array=90,\n",
    "    # constraints OFF\n",
    "    turn_off_constraints=True,\n",
    "    # image\n",
    "    opt_save_image=True,\n",
    "    img_dpu=20,\n",
    ")"
   ]
  },
  {
   "cell_type": "markdown",
   "metadata": {},
   "source": [
    "## Output layout:\n",
    "![Layout](layout_overlay.png)"
   ]
  }
 ],
 "metadata": {
  "kernelspec": {
   "display_name": ".venv",
   "language": "python",
   "name": "python3"
  },
  "language_info": {
   "codemirror_mode": {
    "name": "ipython",
    "version": 3
   },
   "file_extension": ".py",
   "mimetype": "text/x-python",
   "name": "python",
   "nbconvert_exporter": "python",
   "pygments_lexer": "ipython3",
   "version": "3.12.7"
  }
 },
 "nbformat": 4,
 "nbformat_minor": 2
}
