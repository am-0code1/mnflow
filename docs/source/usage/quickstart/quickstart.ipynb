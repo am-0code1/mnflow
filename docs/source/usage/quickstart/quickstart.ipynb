{
 "cells": [
  {
   "cell_type": "markdown",
   "metadata": {},
   "source": [
    "# Quick start\n",
    "\n",
    "Here is a quick test to ensure everything works well.\n",
    "Let us design a DLD structure with critical diameter of ``d_c=10.0`` (microns) and periodicity of ``Np=10``.\n",
    "The channel is vertical by default.\n",
    "In this example, we pass ``rot_last=90`` to apply a 90-degree rotation to form a horizontal channel (for better arrangement in this document).\n",
    "Finally, we pass ``opt_save_image=True`` to save an image of the layout.\n",
    "Here, is the final script:"
   ]
  },
  {
   "cell_type": "code",
   "execution_count": null,
   "metadata": {},
   "outputs": [],
   "source": [
    "from mnflow.mfda.cad.dld.theme.block import DLD"
   ]
  },
  {
   "cell_type": "code",
   "execution_count": null,
   "metadata": {},
   "outputs": [],
   "source": [
    "dld = DLD(\n",
    "    d_c=10.0,\n",
    "    Np=10,\n",
    "    rot_last=90,\n",
    "    opt_save_image=True,\n",
    ")"
   ]
  },
  {
   "cell_type": "markdown",
   "metadata": {},
   "source": [
    "## Output layout:\n",
    "![Layout](layout_overlay.png)"
   ]
  },
  {
   "cell_type": "markdown",
   "metadata": {},
   "source": [
    "At this point, you should have a few files created in your working directory automatically: layout files in `gds` and `png` formats. \n",
    "\n",
    "If that is the case, and if the layout is similar to the output layout presented above, and if the log you see after executing the script matches that shown above, the package should have been installed properly."
   ]
  }
 ],
 "metadata": {
  "kernelspec": {
   "display_name": ".venv",
   "language": "python",
   "name": "python3"
  },
  "language_info": {
   "codemirror_mode": {
    "name": "ipython",
    "version": 3
   },
   "file_extension": ".py",
   "mimetype": "text/x-python",
   "name": "python",
   "nbconvert_exporter": "python",
   "pygments_lexer": "ipython3",
   "version": "3.12.7"
  }
 },
 "nbformat": 4,
 "nbformat_minor": 2
}
