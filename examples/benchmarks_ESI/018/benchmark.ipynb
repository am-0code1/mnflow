{
 "cells": [
  {
   "cell_type": "markdown",
   "metadata": {},
   "source": [
    "# Boundary treatment `pow` - adjusting power value\n",
    "\n",
    "A boundary treatment based on the work of [Ebadi et. al. (2020)](https://link.springer.com/article/10.1007/s42452-019-1064-5). Here, we adjust the power value of flow rate-gap dependency, `i.e.`, $b$ in the original work, to show the effects. "
   ]
  },
  {
   "cell_type": "code",
   "execution_count": null,
   "metadata": {},
   "outputs": [],
   "source": [
    "from mnflow.mfda.cad.dld.theme.block import DLD"
   ]
  },
  {
   "cell_type": "code",
   "execution_count": null,
   "metadata": {},
   "outputs": [],
   "source": [
    "for pow_val in [2.0, 2.5, 3.0]:\n",
    "    dld = DLD(\n",
    "        Np=10,\n",
    "        Nw=8,\n",
    "        gap_w=1.,\n",
    "        boundary_treatment='pow',\n",
    "        pow_val=pow_val,\n",
    "        num_unit=2,\n",
    "        rot_last=90,\n",
    "        # constraints OFF\n",
    "        turn_off_constraints=True,\n",
    "        # image\n",
    "        fname_cad=f'pow_{pow_val}.gds',\n",
    "        img_core_fname=f'pow_{pow_val}',\n",
    "        opt_save_image=True,\n",
    "        img_dpu=40,\n",
    "    )"
   ]
  },
  {
   "cell_type": "markdown",
   "metadata": {},
   "source": [
    "It can be perceived that as $b$ increases, the maximum gap decreases. The maximum gap is about $38\\%$, $30\\%$, and $24\\%$ larger than that in the bulk of domain for $b=2,~2.5$ and $3.0$, respectively."
   ]
  },
  {
   "cell_type": "markdown",
   "metadata": {},
   "source": [
    "## Output layout; $b=2.0$:\n",
    "![Layout](pow_2.0_overlay.png)\n",
    "\n",
    "## Output layout; $b=2.5$:\n",
    "![Layout](pow_2.5_overlay.png)\n",
    "\n",
    "## Output layout; $b=3.0$:\n",
    "![Layout](pow_3.0_overlay.png)"
   ]
  }
 ],
 "metadata": {
  "kernelspec": {
   "display_name": ".venv",
   "language": "python",
   "name": "python3"
  },
  "language_info": {
   "codemirror_mode": {
    "name": "ipython",
    "version": 3
   },
   "file_extension": ".py",
   "mimetype": "text/x-python",
   "name": "python",
   "nbconvert_exporter": "python",
   "pygments_lexer": "ipython3",
   "version": "3.12.7"
  }
 },
 "nbformat": 4,
 "nbformat_minor": 2
}
