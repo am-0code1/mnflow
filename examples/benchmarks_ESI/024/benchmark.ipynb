{
 "cells": [
  {
   "cell_type": "markdown",
   "metadata": {},
   "source": [
    "# Multi-inlet with non-uniform widths"
   ]
  },
  {
   "cell_type": "code",
   "execution_count": null,
   "metadata": {},
   "outputs": [],
   "source": [
    "from mnflow.mfda.cad.dld.theme.block import DLD"
   ]
  },
  {
   "cell_type": "markdown",
   "metadata": {},
   "source": [
    "- You can adjust the width of each branch of inlet using the key ``width_nondim`` as shown in the following example. Note that:\n",
    "\n",
    "    - The total width of inlet is used as a reference for nondimensionalization of width of each branch specified in ``width_nondim``.\n",
    "    - Width of each branch includes its sidewalls as well as its effective opening.\n",
    "\n",
    "- You can adjust the configurations of the extension segment of inlet via ``lst_config_extension`` as demonstrated in the following."
   ]
  },
  {
   "cell_type": "code",
   "execution_count": null,
   "metadata": {},
   "outputs": [],
   "source": [
    "dld=DLD(\n",
    "    d_c=5,\n",
    "    config_multi_inlet={\n",
    "        'bar_dims':[5, 200],\n",
    "        'width_nondim':[0.1, 0.1, 0.8],\n",
    "        'lst_config_extension':{\n",
    "            'bar_len':100,\n",
    "            'margin_top':0,\n",
    "            'margin_down':10,\n",
    "            },\n",
    "        },\n",
    "    Np=10,\n",
    "    Nw=20,\n",
    "    num_unit=3,\n",
    "    # constraints OFF\n",
    "    turn_off_constraints=True,\n",
    "    # post process transformations\n",
    "    rot_last=90, # solely for better arrangement of layout in docs\n",
    "    # image\n",
    "    opt_save_image=True,\n",
    "    img_dpu=1,\n",
    "    )"
   ]
  },
  {
   "cell_type": "markdown",
   "metadata": {},
   "source": [
    "## Output layout:\n",
    "![Layout](layout_overlay.png)"
   ]
  }
 ],
 "metadata": {
  "kernelspec": {
   "display_name": ".venv",
   "language": "python",
   "name": "python3"
  },
  "language_info": {
   "codemirror_mode": {
    "name": "ipython",
    "version": 3
   },
   "file_extension": ".py",
   "mimetype": "text/x-python",
   "name": "python",
   "nbconvert_exporter": "python",
   "pygments_lexer": "ipython3",
   "version": "3.12.7"
  }
 },
 "nbformat": 4,
 "nbformat_minor": 2
}
