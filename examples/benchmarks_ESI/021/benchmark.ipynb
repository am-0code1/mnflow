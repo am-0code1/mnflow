{
 "cells": [
  {
   "cell_type": "markdown",
   "metadata": {},
   "source": [
    "# Theme: Multistage"
   ]
  },
  {
   "cell_type": "code",
   "execution_count": null,
   "metadata": {},
   "outputs": [],
   "source": [
    "from mnflow.mfda.cad.dld.theme.multistage import DLD"
   ]
  },
  {
   "cell_type": "markdown",
   "metadata": {},
   "source": [
    "The configurations introduced via ``config`` are mainly applied homogeneously accross all the stages except for valid keys with list of values. For example, in the following example, a list of values is provided for ``d_c``, while ``Np`` and ``num_unit`` are assigned single integer values. Therefore, the number of stages is inferred to be 3 (from the list of values for critical diameter). The values from the list of ``d_c`` will be then applied heterogeneously to their corresponding stages, while a similar values of ``Np`` and ``num_unit`` will be applied to all stages homogeneously. \n",
    "\n",
    "**Note:** More information about this scheme can be found from [Davis et. al. (2006)](https://doi.org/10.1073/pnas.0605967103)."
   ]
  },
  {
   "cell_type": "code",
   "execution_count": null,
   "metadata": {},
   "outputs": [],
   "source": [
    "dld=DLD(\n",
    "    config={\n",
    "        'd_c':[18,10,5],\n",
    "        'Np':10,\n",
    "        'num_unit':2,\n",
    "        },\n",
    "    # post process transformations\n",
    "    rot_last=90, # solely for better arrangement of layout in docs\n",
    "    # image\n",
    "    opt_save_image=True,\n",
    "    img_dpu=0.5,\n",
    "    )"
   ]
  },
  {
   "cell_type": "markdown",
   "metadata": {},
   "source": [
    "## Output layout:\n",
    "![Layout](layout_overlay.png)"
   ]
  }
 ],
 "metadata": {
  "kernelspec": {
   "display_name": ".venv",
   "language": "python",
   "name": "python3"
  },
  "language_info": {
   "codemirror_mode": {
    "name": "ipython",
    "version": 3
   },
   "file_extension": ".py",
   "mimetype": "text/x-python",
   "name": "python",
   "nbconvert_exporter": "python",
   "pygments_lexer": "ipython3",
   "version": "3.12.7"
  }
 },
 "nbformat": 4,
 "nbformat_minor": 2
}
