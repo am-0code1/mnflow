{
 "cells": [
  {
   "cell_type": "markdown",
   "metadata": {},
   "source": [
    "# Theme: Condenser-and-Sorter"
   ]
  },
  {
   "cell_type": "code",
   "execution_count": null,
   "metadata": {},
   "outputs": [],
   "source": [
    "from mnflow.mfda.cad.dld.theme.condenser_sorter import DLD"
   ]
  },
  {
   "cell_type": "markdown",
   "metadata": {},
   "source": [
    "The configurations are very much similar to ``mnflow.mfda.cad.dld.theme.multistage.DLD``. There are some differences in the implementations though. For examle, herein, the stages related to sorters are automatically mirrored. Some sideway collections are also created automatically to enable collection of sufficiently large particles at the end of each sorter stage.\n",
    "\n",
    "**Note:** More information about this scheme can be found from the [original work; Kim et. al. (2017)](https://www.pnas.org/doi/10.1073/pnas.1706645114)."
   ]
  },
  {
   "cell_type": "code",
   "execution_count": null,
   "metadata": {},
   "outputs": [],
   "source": [
    "dld=DLD(\n",
    "    config={\n",
    "        'd_c':[18,10,5],\n",
    "        'Np':10,\n",
    "        'num_unit':[2,4,8],\n",
    "        },\n",
    "    # post process transformations\n",
    "    rot_last=90, # solely for better arrangement of layout in docs\n",
    "    # image\n",
    "    opt_save_image=True,\n",
    "    img_dpu=0.5,\n",
    "    )"
   ]
  },
  {
   "cell_type": "markdown",
   "metadata": {},
   "source": [
    "## Output layout:\n",
    "![Layout](layout_overlay.png)"
   ]
  }
 ],
 "metadata": {
  "kernelspec": {
   "display_name": ".venv",
   "language": "python",
   "name": "python3"
  },
  "language_info": {
   "codemirror_mode": {
    "name": "ipython",
    "version": 3
   },
   "file_extension": ".py",
   "mimetype": "text/x-python",
   "name": "python",
   "nbconvert_exporter": "python",
   "pygments_lexer": "ipython3",
   "version": "3.12.7"
  }
 },
 "nbformat": 4,
 "nbformat_minor": 2
}
