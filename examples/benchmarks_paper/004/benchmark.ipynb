{
 "cells": [
  {
   "cell_type": "markdown",
   "metadata": {},
   "source": [
    "# E. Parallelized DLD units with through-wafer vias"
   ]
  },
  {
   "cell_type": "code",
   "execution_count": null,
   "metadata": {},
   "outputs": [],
   "source": [
    "from mnflow.mfda.cad.dld.theme.block import DLD"
   ]
  },
  {
   "cell_type": "code",
   "execution_count": null,
   "metadata": {},
   "outputs": [],
   "source": [
    "dld = DLD(\n",
    "    # core\n",
    "    Np=10,\n",
    "    Nw=15,\n",
    "    gap_w=3.,\n",
    "    pitch_w=7.5,\n",
    "    gap_a=3.0,\n",
    "    pitch_a=15.,\t\t\t\n",
    "    core_shape='beam_c',\n",
    "    beam_thickness=1.2,\n",
    "    num_unit=3,\n",
    "    \n",
    "    # filter\n",
    "    opt_filter=True,\n",
    "    filter_preload_spacing=20,\n",
    "    \n",
    "    # preload\n",
    "    opt_preload=True,\n",
    "    \n",
    "    # collection\n",
    "    opt_collection=True,\n",
    "    opt_collection_with_via=True,\n",
    "    via_dia=100,\n",
    "    \n",
    "    # process\n",
    "    opt_mirror=True, \n",
    "    array_counts=[2, 5],\n",
    "    array_spacing=[100, 0],\n",
    "    opt_mirror_before_array=[True, True],\n",
    "    spacing_between_mirrors_before_array=[50, 0],\n",
    "    rotation_angle_deg_before_array=90,\n",
    "    # constraints OFF\n",
    "    turn_off_constraints=True,\n",
    "    # image\n",
    "    opt_save_image=True,\n",
    "    img_dpu=1,\n",
    ")"
   ]
  },
  {
   "cell_type": "markdown",
   "metadata": {},
   "source": [
    "## Output layout:\n",
    "![Layout](layout_overlay.png)"
   ]
  }
 ],
 "metadata": {
  "kernelspec": {
   "display_name": ".venv_test",
   "language": "python",
   "name": "python3"
  },
  "language_info": {
   "codemirror_mode": {
    "name": "ipython",
    "version": 3
   },
   "file_extension": ".py",
   "mimetype": "text/x-python",
   "name": "python",
   "nbconvert_exporter": "python",
   "pygments_lexer": "ipython3",
   "version": "3.12.7"
  }
 },
 "nbformat": 4,
 "nbformat_minor": 2
}
