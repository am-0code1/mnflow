{
 "cells": [
  {
   "cell_type": "markdown",
   "metadata": {},
   "source": [
    "# Boundary treatment `3d` - adjusting resistance ratio\n",
    "\n",
    "A boundary treatment based on the work of [Inglis et. al. (2020)](https://doi.org/10.1007/s10404-020-2323-x). Here, we introduce a parameter $\\phi$ defined as the ratio of lateral resistance to axial resistance of unit cell close to accumulation sidewall on $N^{th}$ row, set to 1 by default in the package. We modify this param in the following to show the effects. "
   ]
  },
  {
   "cell_type": "code",
   "execution_count": null,
   "metadata": {},
   "outputs": [],
   "source": [
    "from mnflow.mfda.cad.dld.theme.block import DLD"
   ]
  },
  {
   "cell_type": "code",
   "execution_count": null,
   "metadata": {},
   "outputs": [],
   "source": [
    "for phi in [0.5, 1, 3]:\n",
    "    dld = DLD(\n",
    "        Np=10,\n",
    "        Nw=8,\n",
    "        gap_w=1.,\n",
    "        boundary_treatment='3d',\n",
    "        phi=phi,\n",
    "        num_unit=2,\n",
    "        rot_last=90,\n",
    "        # constraints OFF\n",
    "        turn_off_constraints=True,\n",
    "        # image\n",
    "        fname_cad=f'phi_{phi}.gds',\n",
    "        img_core_fname=f'phi_{phi}',\n",
    "        opt_save_image=True,\n",
    "        img_dpu=40,\n",
    "    )"
   ]
  },
  {
   "cell_type": "markdown",
   "metadata": {},
   "source": [
    "It can be perceived that as $\\phi$ increases, the axial and lateral gaps of unit cell on $N^{th}$ row of acc. sidewall increases and decreases, respectively, to allow for the ratio of lateral to axial resistance to increase."
   ]
  },
  {
   "cell_type": "markdown",
   "metadata": {},
   "source": [
    "## Output layout; $\\phi=0.5$:\n",
    "![Layout](phi_0.5_overlay.png)\n",
    "\n",
    "## Output layout; $\\phi=1.0$:\n",
    "![Layout](phi_1_overlay.png)\n",
    "\n",
    "## Output layout; $\\phi=3.0$:\n",
    "![Layout](phi_3_overlay.png)"
   ]
  }
 ],
 "metadata": {
  "kernelspec": {
   "display_name": ".venv",
   "language": "python",
   "name": "python3"
  },
  "language_info": {
   "codemirror_mode": {
    "name": "ipython",
    "version": 3
   },
   "file_extension": ".py",
   "mimetype": "text/x-python",
   "name": "python",
   "nbconvert_exporter": "python",
   "pygments_lexer": "ipython3",
   "version": "3.12.7"
  }
 },
 "nbformat": 4,
 "nbformat_minor": 2
}
