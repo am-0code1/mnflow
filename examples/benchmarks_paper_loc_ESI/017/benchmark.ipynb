{
 "cells": [
  {
   "cell_type": "markdown",
   "metadata": {},
   "source": [
    "# Boundary treatment `pow`\n",
    "\n",
    "A boundary treatment based on the work of [Ebadi et. al. (2020)](https://link.springer.com/article/10.1007/s42452-019-1064-5)."
   ]
  },
  {
   "cell_type": "code",
   "execution_count": null,
   "metadata": {},
   "outputs": [],
   "source": [
    "from mnflow.mfda.cad.dld.theme.block import DLD"
   ]
  },
  {
   "cell_type": "code",
   "execution_count": null,
   "metadata": {},
   "outputs": [],
   "source": [
    "dld = DLD(\n",
    "    Np=10,\n",
    "    Nw=8,\n",
    "    gap_w=1.,\n",
    "    boundary_treatment='pow',\n",
    "    num_unit=2,\n",
    "    rot_last=90,\n",
    "    # constraints OFF\n",
    "    turn_off_constraints=True,\n",
    "    # image\n",
    "    opt_save_image=True,\n",
    "    img_dpu=40,\n",
    "    # for compatibility; added in v.0.0.1\n",
    "    opt_acc_balance_pressure=False,\n",
    ")"
   ]
  },
  {
   "cell_type": "markdown",
   "metadata": {},
   "source": [
    "## Output layout:\n",
    "![Layout](layout_overlay.png)"
   ]
  }
 ],
 "metadata": {
  "kernelspec": {
   "display_name": "mnflow",
   "language": "python",
   "name": "python3"
  },
  "language_info": {
   "codemirror_mode": {
    "name": "ipython",
    "version": 3
   },
   "file_extension": ".py",
   "mimetype": "text/x-python",
   "name": "python",
   "nbconvert_exporter": "python",
   "pygments_lexer": "ipython3",
   "version": "3.12.8"
  }
 },
 "nbformat": 4,
 "nbformat_minor": 2
}
